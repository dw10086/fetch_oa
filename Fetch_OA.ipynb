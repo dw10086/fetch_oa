{
 "cells": [
  {
   "cell_type": "code",
   "execution_count": 1,
   "metadata": {},
   "outputs": [],
   "source": [
    "import pandas as pd\n",
    "import numpy as np\n",
    "import datetime\n",
    "import matplotlib.pyplot as plt\n",
    "import seaborn as sns\n",
    "import warnings\n",
    "warnings.filterwarnings('ignore')"
   ]
  },
  {
   "cell_type": "code",
   "execution_count": 2,
   "metadata": {},
   "outputs": [],
   "source": [
    "# Read data\n",
    "Users = pd.read_csv('USER_TAKEHOME.csv')\n",
    "Transactions = pd.read_csv('TRANSACTION_TAKEHOME.csv')\n",
    "Products = pd.read_csv('PRODUCTS_TAKEHOME.csv')"
   ]
  },
  {
   "cell_type": "markdown",
   "metadata": {},
   "source": [
    "<!-- First: explore the data\n",
    "Review the unstructured csv files and answer the following questions with code that supports your conclusions:\n",
    "Are there any data quality issues present?\n",
    "Are there any fields that are challenging to understand?\n",
    "We recommend using SQL or python and data visualization to examine the data. -->"
   ]
  },
  {
   "cell_type": "markdown",
   "metadata": {},
   "source": [
    "## First: explore the data"
   ]
  },
  {
   "cell_type": "markdown",
   "metadata": {},
   "source": [
    "### 1. Users table\n",
    "#### Based on the investigation:\n",
    "1. ID field is a unique identifier in the Users table\n",
    "2. The table contains users created from 2014 to 2024, mainly 19-64 years old females living in Texas, Florida, and Calfornia, with majority English speakers\n",
    "3. Field LANGUAGE has the the most missing values\n",
    "4. Field BIRTH_DATE has potential data issue - \n",
    "        a. found records with 100+ or 10- ages, potentially data errors\n",
    "        b. found over 1k records with the same birthdate (1970-01-01), potentially a default value"
   ]
  },
  {
   "cell_type": "code",
   "execution_count": 3,
   "metadata": {},
   "outputs": [
    {
     "data": {
      "text/html": [
       "<div>\n",
       "<style scoped>\n",
       "    .dataframe tbody tr th:only-of-type {\n",
       "        vertical-align: middle;\n",
       "    }\n",
       "\n",
       "    .dataframe tbody tr th {\n",
       "        vertical-align: top;\n",
       "    }\n",
       "\n",
       "    .dataframe thead th {\n",
       "        text-align: right;\n",
       "    }\n",
       "</style>\n",
       "<table border=\"1\" class=\"dataframe\">\n",
       "  <thead>\n",
       "    <tr style=\"text-align: right;\">\n",
       "      <th></th>\n",
       "      <th>ID</th>\n",
       "      <th>CREATED_DATE</th>\n",
       "      <th>BIRTH_DATE</th>\n",
       "      <th>STATE</th>\n",
       "      <th>LANGUAGE</th>\n",
       "      <th>GENDER</th>\n",
       "    </tr>\n",
       "  </thead>\n",
       "  <tbody>\n",
       "    <tr>\n",
       "      <th>0</th>\n",
       "      <td>5ef3b4f17053ab141787697d</td>\n",
       "      <td>2020-06-24 20:17:54.000 Z</td>\n",
       "      <td>2000-08-11 00:00:00.000 Z</td>\n",
       "      <td>CA</td>\n",
       "      <td>es-419</td>\n",
       "      <td>female</td>\n",
       "    </tr>\n",
       "    <tr>\n",
       "      <th>1</th>\n",
       "      <td>5ff220d383fcfc12622b96bc</td>\n",
       "      <td>2021-01-03 19:53:55.000 Z</td>\n",
       "      <td>2001-09-24 04:00:00.000 Z</td>\n",
       "      <td>PA</td>\n",
       "      <td>en</td>\n",
       "      <td>female</td>\n",
       "    </tr>\n",
       "    <tr>\n",
       "      <th>2</th>\n",
       "      <td>6477950aa55bb77a0e27ee10</td>\n",
       "      <td>2023-05-31 18:42:18.000 Z</td>\n",
       "      <td>1994-10-28 00:00:00.000 Z</td>\n",
       "      <td>FL</td>\n",
       "      <td>es-419</td>\n",
       "      <td>female</td>\n",
       "    </tr>\n",
       "    <tr>\n",
       "      <th>3</th>\n",
       "      <td>658a306e99b40f103b63ccf8</td>\n",
       "      <td>2023-12-26 01:46:22.000 Z</td>\n",
       "      <td>NaN</td>\n",
       "      <td>NC</td>\n",
       "      <td>en</td>\n",
       "      <td>NaN</td>\n",
       "    </tr>\n",
       "    <tr>\n",
       "      <th>4</th>\n",
       "      <td>653cf5d6a225ea102b7ecdc2</td>\n",
       "      <td>2023-10-28 11:51:50.000 Z</td>\n",
       "      <td>1972-03-19 00:00:00.000 Z</td>\n",
       "      <td>PA</td>\n",
       "      <td>en</td>\n",
       "      <td>female</td>\n",
       "    </tr>\n",
       "  </tbody>\n",
       "</table>\n",
       "</div>"
      ],
      "text/plain": [
       "                         ID               CREATED_DATE  \\\n",
       "0  5ef3b4f17053ab141787697d  2020-06-24 20:17:54.000 Z   \n",
       "1  5ff220d383fcfc12622b96bc  2021-01-03 19:53:55.000 Z   \n",
       "2  6477950aa55bb77a0e27ee10  2023-05-31 18:42:18.000 Z   \n",
       "3  658a306e99b40f103b63ccf8  2023-12-26 01:46:22.000 Z   \n",
       "4  653cf5d6a225ea102b7ecdc2  2023-10-28 11:51:50.000 Z   \n",
       "\n",
       "                  BIRTH_DATE STATE LANGUAGE  GENDER  \n",
       "0  2000-08-11 00:00:00.000 Z    CA   es-419  female  \n",
       "1  2001-09-24 04:00:00.000 Z    PA       en  female  \n",
       "2  1994-10-28 00:00:00.000 Z    FL   es-419  female  \n",
       "3                        NaN    NC       en     NaN  \n",
       "4  1972-03-19 00:00:00.000 Z    PA       en  female  "
      ]
     },
     "execution_count": 3,
     "metadata": {},
     "output_type": "execute_result"
    }
   ],
   "source": [
    "# Examine data\n",
    "Users.head()"
   ]
  },
  {
   "cell_type": "code",
   "execution_count": 4,
   "metadata": {},
   "outputs": [
    {
     "name": "stdout",
     "output_type": "stream",
     "text": [
      "<class 'pandas.core.frame.DataFrame'>\n",
      "RangeIndex: 100000 entries, 0 to 99999\n",
      "Data columns (total 6 columns):\n",
      " #   Column        Non-Null Count   Dtype \n",
      "---  ------        --------------   ----- \n",
      " 0   ID            100000 non-null  object\n",
      " 1   CREATED_DATE  100000 non-null  object\n",
      " 2   BIRTH_DATE    96325 non-null   object\n",
      " 3   STATE         95188 non-null   object\n",
      " 4   LANGUAGE      69492 non-null   object\n",
      " 5   GENDER        94108 non-null   object\n",
      "dtypes: object(6)\n",
      "memory usage: 4.6+ MB\n"
     ]
    }
   ],
   "source": [
    "Users.info()"
   ]
  },
  {
   "cell_type": "code",
   "execution_count": 5,
   "metadata": {},
   "outputs": [
    {
     "data": {
      "text/plain": [
       "True"
      ]
     },
     "execution_count": 5,
     "metadata": {},
     "output_type": "execute_result"
    }
   ],
   "source": [
    "# Check unique ID\n",
    "Users['ID'].is_unique"
   ]
  },
  {
   "cell_type": "code",
   "execution_count": 6,
   "metadata": {},
   "outputs": [
    {
     "data": {
      "text/plain": [
       "('2014-04-18 23:14:55.000 Z', '2024-09-11 17:59:15.000 Z')"
      ]
     },
     "execution_count": 6,
     "metadata": {},
     "output_type": "execute_result"
    }
   ],
   "source": [
    "# Check users creation date\n",
    "Users['CREATED_DATE'].min(),Users['CREATED_DATE'].max(),"
   ]
  },
  {
   "cell_type": "code",
   "execution_count": 7,
   "metadata": {},
   "outputs": [
    {
     "data": {
      "text/plain": [
       "(3.0, 125.0)"
      ]
     },
     "execution_count": 7,
     "metadata": {},
     "output_type": "execute_result"
    }
   ],
   "source": [
    "# Check age of the users and found users with over 100 years old - potentially data errors\n",
    "Users['BIRTH_DATE2'] = pd.to_datetime(Users['BIRTH_DATE'], errors='coerce')\n",
    "current_year = datetime.datetime.now().year\n",
    "Users['AGE'] = current_year - Users['BIRTH_DATE2'].dt.year\n",
    "\n",
    "Users['AGE'].min(), Users['AGE'].max()"
   ]
  },
  {
   "cell_type": "code",
   "execution_count": 8,
   "metadata": {},
   "outputs": [
    {
     "data": {
      "text/plain": [
       "1970-01-01 00:00:00.000 Z    1272\n",
       "1979-12-11 08:00:00.000 Z      63\n",
       "2000-12-12 00:00:00.000 Z      28\n",
       "2000-12-31 00:00:00.000 Z      23\n",
       "2001-01-01 00:00:00.000 Z      16\n",
       "1988-10-28 04:00:00.000 Z      15\n",
       "1999-12-31 00:00:00.000 Z      15\n",
       "1999-12-12 00:00:00.000 Z      14\n",
       "2000-12-11 00:00:00.000 Z      14\n",
       "1990-01-01 00:00:00.000 Z      14\n",
       "Name: BIRTH_DATE, dtype: int64"
      ]
     },
     "execution_count": 8,
     "metadata": {},
     "output_type": "execute_result"
    }
   ],
   "source": [
    "# Check birth_date and found high frequency of 1970-01-01 - default value\n",
    "Users['BIRTH_DATE'].value_counts().head(10)"
   ]
  },
  {
   "cell_type": "code",
   "execution_count": 9,
   "metadata": {},
   "outputs": [
    {
     "data": {
      "image/png": "[encoded data removed]",
      "text/plain": [
       "<Figure size 1080x360 with 2 Axes>"
      ]
     },
     "metadata": {},
     "output_type": "display_data"
    }
   ],
   "source": [
    "# Create plot to show age distribution and outliers\n",
    "sns.set_style(\"whitegrid\")\n",
    "fig, axes = plt.subplots(1, 2, figsize=(15, 5))\n",
    "\n",
    "# Histogram to show age distribution\n",
    "sns.histplot(Users[\"AGE\"], bins=50, kde=True, ax=axes[0])\n",
    "axes[0].axvline(100, color='red', linestyle='dashed', linewidth=1.5)  # Mark 100-year threshold\n",
    "axes[0].set_title(\"Distribution of User Ages\")\n",
    "axes[0].set_xlabel(\"Age\")\n",
    "axes[0].set_ylabel(\"Count\")\n",
    "\n",
    "# Box plot to highlight outliers\n",
    "sns.boxplot(x=Users[\"AGE\"], ax=axes[1])\n",
    "axes[1].axvline(100, color='red', linestyle='dashed', linewidth=1.5)  # Mark 100-year threshold\n",
    "axes[1].set_title(\"Box Plot of User Ages\")\n",
    "axes[1].set_xlabel(\"Age\")\n",
    "\n",
    "# Show plots\n",
    "plt.tight_layout()\n",
    "plt.show()"
   ]
  },
  {
   "cell_type": "code",
   "execution_count": 10,
   "metadata": {},
   "outputs": [
    {
     "data": {
      "text/plain": [
       "25-34     23993\n",
       "35-44     22135\n",
       "45-54     16558\n",
       "18-24     12360\n",
       "55-64     12291\n",
       "65-74      5826\n",
       "75-100     1726\n",
       "<18        1374\n",
       "100+         62\n",
       "Name: Age Band, dtype: int64"
      ]
     },
     "execution_count": 10,
     "metadata": {},
     "output_type": "execute_result"
    }
   ],
   "source": [
    "# Created age bands and get distribution\n",
    "bins = [0, 18, 25, 35, 45, 55, 65, 75, 100, 150]  \n",
    "labels = ['<18', '18-24', '25-34', '35-44', '45-54', '55-64', '65-74', '75-100', '100+']\n",
    "Users['Age Band'] = pd.cut(Users['AGE'], bins=bins, labels=labels, right=False)\n",
    "Users['Age Band'].value_counts()"
   ]
  },
  {
   "cell_type": "code",
   "execution_count": 11,
   "metadata": {},
   "outputs": [
    {
     "data": {
      "text/plain": [
       "female                    0.682620\n",
       "male                      0.274461\n",
       "transgender               0.018829\n",
       "prefer_not_to_say         0.014345\n",
       "non_binary                0.005026\n",
       "unknown                   0.002083\n",
       "not_listed                0.001913\n",
       "Non-Binary                0.000361\n",
       "not_specified             0.000298\n",
       "My gender isn't listed    0.000053\n",
       "Prefer not to say         0.000011\n",
       "Name: GENDER, dtype: float64"
      ]
     },
     "execution_count": 11,
     "metadata": {},
     "output_type": "execute_result"
    }
   ],
   "source": [
    "# Check distribution of gender\n",
    "Users['GENDER'].value_counts(normalize=True)"
   ]
  },
  {
   "cell_type": "code",
   "execution_count": 12,
   "metadata": {},
   "outputs": [
    {
     "data": {
      "text/plain": [
       "TX    0.094844\n",
       "FL    0.093720\n",
       "CA    0.090232\n",
       "NY    0.059913\n",
       "IL    0.039858\n",
       "Name: STATE, dtype: float64"
      ]
     },
     "execution_count": 12,
     "metadata": {},
     "output_type": "execute_result"
    }
   ],
   "source": [
    "# Check distribution of state\n",
    "Users['STATE'].value_counts(normalize=True).head(5)"
   ]
  },
  {
   "cell_type": "code",
   "execution_count": 13,
   "metadata": {},
   "outputs": [
    {
     "data": {
      "text/plain": [
       "en        0.63403\n",
       "NaN       0.30508\n",
       "es-419    0.06089\n",
       "Name: LANGUAGE, dtype: float64"
      ]
     },
     "execution_count": 13,
     "metadata": {},
     "output_type": "execute_result"
    }
   ],
   "source": [
    "# Check distribution of language\n",
    "Users['LANGUAGE'].value_counts(normalize=True,dropna=False)"
   ]
  },
  {
   "cell_type": "markdown",
   "metadata": {},
   "source": [
    "### 2. Products table\n",
    "#### Based on the investigation:\n",
    "1. There's no unique identifier in this table\n",
    "2. There are some duplicates records, indicating potential data issue in the data\n",
    "3. There are some missing values in the dataset. Missings are found in all of the columns. CATEGORY_4 contains over 92% missing value. For barcode, missing mainly happen in restaurent Beverages, À La Carte Item\tand Alchohol Wine and Beer categories. \n",
    "4.  Potential data issue on Barcode: \n",
    "        a. identified some records with same barcode but different manufacturer/brand\n",
    "        b. some of those with duplicated barcodes have PLACEHOLDER MANUFACTURER or BRAND NOT KNOWN -> Potentailly can be used for dedup logic\n",
    "\n"
   ]
  },
  {
   "cell_type": "code",
   "execution_count": 14,
   "metadata": {},
   "outputs": [
    {
     "data": {
      "text/html": [
       "<div>\n",
       "<style scoped>\n",
       "    .dataframe tbody tr th:only-of-type {\n",
       "        vertical-align: middle;\n",
       "    }\n",
       "\n",
       "    .dataframe tbody tr th {\n",
       "        vertical-align: top;\n",
       "    }\n",
       "\n",
       "    .dataframe thead th {\n",
       "        text-align: right;\n",
       "    }\n",
       "</style>\n",
       "<table border=\"1\" class=\"dataframe\">\n",
       "  <thead>\n",
       "    <tr style=\"text-align: right;\">\n",
       "      <th></th>\n",
       "      <th>CATEGORY_1</th>\n",
       "      <th>CATEGORY_2</th>\n",
       "      <th>CATEGORY_3</th>\n",
       "      <th>CATEGORY_4</th>\n",
       "      <th>MANUFACTURER</th>\n",
       "      <th>BRAND</th>\n",
       "      <th>BARCODE</th>\n",
       "    </tr>\n",
       "  </thead>\n",
       "  <tbody>\n",
       "    <tr>\n",
       "      <th>0</th>\n",
       "      <td>Health &amp; Wellness</td>\n",
       "      <td>Sexual Health</td>\n",
       "      <td>Conductivity Gels &amp; Lotions</td>\n",
       "      <td>NaN</td>\n",
       "      <td>NaN</td>\n",
       "      <td>NaN</td>\n",
       "      <td>7.964944e+11</td>\n",
       "    </tr>\n",
       "    <tr>\n",
       "      <th>1</th>\n",
       "      <td>Snacks</td>\n",
       "      <td>Puffed Snacks</td>\n",
       "      <td>Cheese Curls &amp; Puffs</td>\n",
       "      <td>NaN</td>\n",
       "      <td>NaN</td>\n",
       "      <td>NaN</td>\n",
       "      <td>2.327801e+10</td>\n",
       "    </tr>\n",
       "  </tbody>\n",
       "</table>\n",
       "</div>"
      ],
      "text/plain": [
       "          CATEGORY_1     CATEGORY_2                   CATEGORY_3 CATEGORY_4  \\\n",
       "0  Health & Wellness  Sexual Health  Conductivity Gels & Lotions        NaN   \n",
       "1             Snacks  Puffed Snacks         Cheese Curls & Puffs        NaN   \n",
       "\n",
       "  MANUFACTURER BRAND       BARCODE  \n",
       "0          NaN   NaN  7.964944e+11  \n",
       "1          NaN   NaN  2.327801e+10  "
      ]
     },
     "execution_count": 14,
     "metadata": {},
     "output_type": "execute_result"
    }
   ],
   "source": [
    "# Examine Data\n",
    "Products.head(2)"
   ]
  },
  {
   "cell_type": "code",
   "execution_count": 15,
   "metadata": {},
   "outputs": [
    {
     "name": "stdout",
     "output_type": "stream",
     "text": [
      "<class 'pandas.core.frame.DataFrame'>\n",
      "RangeIndex: 845552 entries, 0 to 845551\n",
      "Data columns (total 7 columns):\n",
      " #   Column        Non-Null Count   Dtype  \n",
      "---  ------        --------------   -----  \n",
      " 0   CATEGORY_1    845441 non-null  object \n",
      " 1   CATEGORY_2    844128 non-null  object \n",
      " 2   CATEGORY_3    784986 non-null  object \n",
      " 3   CATEGORY_4    67459 non-null   object \n",
      " 4   MANUFACTURER  619078 non-null  object \n",
      " 5   BRAND         619080 non-null  object \n",
      " 6   BARCODE       841527 non-null  float64\n",
      "dtypes: float64(1), object(6)\n",
      "memory usage: 45.2+ MB\n"
     ]
    }
   ],
   "source": [
    "Products.info()"
   ]
  },
  {
   "cell_type": "code",
   "execution_count": 16,
   "metadata": {},
   "outputs": [
    {
     "data": {
      "text/plain": [
       "False"
      ]
     },
     "execution_count": 16,
     "metadata": {},
     "output_type": "execute_result"
    }
   ],
   "source": [
    "# Check unique key - barcode is not a unique key\n",
    "Products['BARCODE'].is_unique"
   ]
  },
  {
   "cell_type": "code",
   "execution_count": 17,
   "metadata": {},
   "outputs": [
    {
     "data": {
      "text/plain": [
       "0.9202189812099079"
      ]
     },
     "execution_count": 17,
     "metadata": {},
     "output_type": "execute_result"
    }
   ],
   "source": [
    "# Found CATEGORY_4 has high percentage of missing values\n",
    "Products[Products['CATEGORY_4'].isna()].shape[0]/Products.shape[0]"
   ]
  },
  {
   "cell_type": "code",
   "execution_count": 18,
   "metadata": {},
   "outputs": [
    {
     "data": {
      "text/html": [
       "<div>\n",
       "<style scoped>\n",
       "    .dataframe tbody tr th:only-of-type {\n",
       "        vertical-align: middle;\n",
       "    }\n",
       "\n",
       "    .dataframe tbody tr th {\n",
       "        vertical-align: top;\n",
       "    }\n",
       "\n",
       "    .dataframe thead th {\n",
       "        text-align: right;\n",
       "    }\n",
       "</style>\n",
       "<table border=\"1\" class=\"dataframe\">\n",
       "  <thead>\n",
       "    <tr style=\"text-align: right;\">\n",
       "      <th></th>\n",
       "      <th>CATEGORY_1</th>\n",
       "      <th>CATEGORY_2</th>\n",
       "      <th>CATEGORY_3</th>\n",
       "      <th>CATEGORY_4</th>\n",
       "      <th>MANUFACTURER</th>\n",
       "      <th>BRAND</th>\n",
       "      <th>BARCODE</th>\n",
       "    </tr>\n",
       "  </thead>\n",
       "  <tbody>\n",
       "    <tr>\n",
       "      <th>349945</th>\n",
       "      <td>Snacks</td>\n",
       "      <td>Candy</td>\n",
       "      <td>Confection Candy</td>\n",
       "      <td>NaN</td>\n",
       "      <td>MARS WRIGLEY</td>\n",
       "      <td>STARBURST</td>\n",
       "      <td>4.005100e+05</td>\n",
       "    </tr>\n",
       "    <tr>\n",
       "      <th>99568</th>\n",
       "      <td>Snacks</td>\n",
       "      <td>Candy</td>\n",
       "      <td>Confection Candy</td>\n",
       "      <td>NaN</td>\n",
       "      <td>MARS WRIGLEY</td>\n",
       "      <td>STARBURST</td>\n",
       "      <td>4.005100e+05</td>\n",
       "    </tr>\n",
       "    <tr>\n",
       "      <th>139121</th>\n",
       "      <td>Snacks</td>\n",
       "      <td>Candy</td>\n",
       "      <td>Chocolate Candy</td>\n",
       "      <td>NaN</td>\n",
       "      <td>PLACEHOLDER MANUFACTURER</td>\n",
       "      <td>BRAND NOT KNOWN</td>\n",
       "      <td>4.043100e+05</td>\n",
       "    </tr>\n",
       "    <tr>\n",
       "      <th>841230</th>\n",
       "      <td>Snacks</td>\n",
       "      <td>Candy</td>\n",
       "      <td>Chocolate Candy</td>\n",
       "      <td>NaN</td>\n",
       "      <td>MARS WRIGLEY</td>\n",
       "      <td>M&amp;M'S</td>\n",
       "      <td>4.043100e+05</td>\n",
       "    </tr>\n",
       "    <tr>\n",
       "      <th>274321</th>\n",
       "      <td>Snacks</td>\n",
       "      <td>Crackers</td>\n",
       "      <td>Graham Crackers</td>\n",
       "      <td>NaN</td>\n",
       "      <td>TRADER JOE'S</td>\n",
       "      <td>TRADER JOE'S</td>\n",
       "      <td>4.387110e+05</td>\n",
       "    </tr>\n",
       "    <tr>\n",
       "      <th>...</th>\n",
       "      <td>...</td>\n",
       "      <td>...</td>\n",
       "      <td>...</td>\n",
       "      <td>...</td>\n",
       "      <td>...</td>\n",
       "      <td>...</td>\n",
       "      <td>...</td>\n",
       "    </tr>\n",
       "    <tr>\n",
       "      <th>708466</th>\n",
       "      <td>Snacks</td>\n",
       "      <td>Candy</td>\n",
       "      <td>Mints</td>\n",
       "      <td>NaN</td>\n",
       "      <td>LOTUS BRANDS INC</td>\n",
       "      <td>ECO-DENT</td>\n",
       "      <td>3.600540e+08</td>\n",
       "    </tr>\n",
       "    <tr>\n",
       "      <th>304021</th>\n",
       "      <td>Health &amp; Wellness</td>\n",
       "      <td>Hair Care</td>\n",
       "      <td>Hair Color</td>\n",
       "      <td>NaN</td>\n",
       "      <td>HENKEL</td>\n",
       "      <td>GÖT2B</td>\n",
       "      <td>1.700033e+10</td>\n",
       "    </tr>\n",
       "    <tr>\n",
       "      <th>213340</th>\n",
       "      <td>Health &amp; Wellness</td>\n",
       "      <td>Hair Care</td>\n",
       "      <td>Hair Color</td>\n",
       "      <td>NaN</td>\n",
       "      <td>HENKEL</td>\n",
       "      <td>SCHWARZKOPF</td>\n",
       "      <td>1.700033e+10</td>\n",
       "    </tr>\n",
       "    <tr>\n",
       "      <th>28421</th>\n",
       "      <td>Health &amp; Wellness</td>\n",
       "      <td>Hair Care</td>\n",
       "      <td>Hair Color</td>\n",
       "      <td>NaN</td>\n",
       "      <td>HENKEL</td>\n",
       "      <td>SCHWARZKOPF</td>\n",
       "      <td>5.233692e+10</td>\n",
       "    </tr>\n",
       "    <tr>\n",
       "      <th>709607</th>\n",
       "      <td>Health &amp; Wellness</td>\n",
       "      <td>Hair Care</td>\n",
       "      <td>Hair Color</td>\n",
       "      <td>NaN</td>\n",
       "      <td>HENKEL</td>\n",
       "      <td>GÖT2B</td>\n",
       "      <td>5.233692e+10</td>\n",
       "    </tr>\n",
       "  </tbody>\n",
       "</table>\n",
       "<p>370 rows × 7 columns</p>\n",
       "</div>"
      ],
      "text/plain": [
       "               CATEGORY_1 CATEGORY_2        CATEGORY_3 CATEGORY_4  \\\n",
       "349945             Snacks      Candy  Confection Candy        NaN   \n",
       "99568              Snacks      Candy  Confection Candy        NaN   \n",
       "139121             Snacks      Candy   Chocolate Candy        NaN   \n",
       "841230             Snacks      Candy   Chocolate Candy        NaN   \n",
       "274321             Snacks   Crackers   Graham Crackers        NaN   \n",
       "...                   ...        ...               ...        ...   \n",
       "708466             Snacks      Candy             Mints        NaN   \n",
       "304021  Health & Wellness  Hair Care        Hair Color        NaN   \n",
       "213340  Health & Wellness  Hair Care        Hair Color        NaN   \n",
       "28421   Health & Wellness  Hair Care        Hair Color        NaN   \n",
       "709607  Health & Wellness  Hair Care        Hair Color        NaN   \n",
       "\n",
       "                    MANUFACTURER            BRAND       BARCODE  \n",
       "349945              MARS WRIGLEY        STARBURST  4.005100e+05  \n",
       "99568               MARS WRIGLEY        STARBURST  4.005100e+05  \n",
       "139121  PLACEHOLDER MANUFACTURER  BRAND NOT KNOWN  4.043100e+05  \n",
       "841230              MARS WRIGLEY            M&M'S  4.043100e+05  \n",
       "274321              TRADER JOE'S     TRADER JOE'S  4.387110e+05  \n",
       "...                          ...              ...           ...  \n",
       "708466          LOTUS BRANDS INC         ECO-DENT  3.600540e+08  \n",
       "304021                    HENKEL            GÖT2B  1.700033e+10  \n",
       "213340                    HENKEL      SCHWARZKOPF  1.700033e+10  \n",
       "28421                     HENKEL      SCHWARZKOPF  5.233692e+10  \n",
       "709607                    HENKEL            GÖT2B  5.233692e+10  \n",
       "\n",
       "[370 rows x 7 columns]"
      ]
     },
     "execution_count": 18,
     "metadata": {},
     "output_type": "execute_result"
    }
   ],
   "source": [
    "# Check duplicated BARCODE - only 370 records\n",
    "Products[(Products.duplicated(['BARCODE'], keep=False)) & (Products['BARCODE'].notna())].sort_values(by='BARCODE')"
   ]
  },
  {
   "cell_type": "code",
   "execution_count": 19,
   "metadata": {},
   "outputs": [],
   "source": [
    "# # Examine products with missing barcode\n",
    "# pd.merge(Products[Products['BARCODE'].isna()].groupby(['CATEGORY_1','CATEGORY_2','CATEGORY_3','CATEGORY_4'])[['BARCODE']].size().reset_index(name='Missing'),\n",
    "#          Products.groupby(['CATEGORY_1','CATEGORY_2','CATEGORY_3','CATEGORY_4'])[['BARCODE']].size().reset_index(name='Total_counts'), \n",
    "#          how='left', on=['CATEGORY_1','CATEGORY_2','CATEGORY_3','CATEGORY_4']).assign(\n",
    "#         missing_rate=lambda x: x['Missing'] / x['Total_counts']).sort_values(by='missing_rate',ascending=False)"
   ]
  },
  {
   "cell_type": "code",
   "execution_count": 20,
   "metadata": {},
   "outputs": [
    {
     "data": {
      "text/html": [
       "<div>\n",
       "<style scoped>\n",
       "    .dataframe tbody tr th:only-of-type {\n",
       "        vertical-align: middle;\n",
       "    }\n",
       "\n",
       "    .dataframe tbody tr th {\n",
       "        vertical-align: top;\n",
       "    }\n",
       "\n",
       "    .dataframe thead th {\n",
       "        text-align: right;\n",
       "    }\n",
       "</style>\n",
       "<table border=\"1\" class=\"dataframe\">\n",
       "  <thead>\n",
       "    <tr style=\"text-align: right;\">\n",
       "      <th></th>\n",
       "      <th>CATEGORY_1</th>\n",
       "      <th>CATEGORY_2</th>\n",
       "      <th>Missing</th>\n",
       "      <th>Total_counts</th>\n",
       "      <th>missing_rate</th>\n",
       "    </tr>\n",
       "  </thead>\n",
       "  <tbody>\n",
       "    <tr>\n",
       "      <th>24</th>\n",
       "      <td>Restaurant</td>\n",
       "      <td>Beverages</td>\n",
       "      <td>33</td>\n",
       "      <td>64</td>\n",
       "      <td>0.515625</td>\n",
       "    </tr>\n",
       "    <tr>\n",
       "      <th>25</th>\n",
       "      <td>Restaurant</td>\n",
       "      <td>À La Carte Item</td>\n",
       "      <td>1</td>\n",
       "      <td>5</td>\n",
       "      <td>0.200000</td>\n",
       "    </tr>\n",
       "    <tr>\n",
       "      <th>1</th>\n",
       "      <td>Alcohol</td>\n",
       "      <td>Wine</td>\n",
       "      <td>22</td>\n",
       "      <td>341</td>\n",
       "      <td>0.064516</td>\n",
       "    </tr>\n",
       "    <tr>\n",
       "      <th>0</th>\n",
       "      <td>Alcohol</td>\n",
       "      <td>Beer</td>\n",
       "      <td>4</td>\n",
       "      <td>134</td>\n",
       "      <td>0.029851</td>\n",
       "    </tr>\n",
       "    <tr>\n",
       "      <th>6</th>\n",
       "      <td>Deli &amp; Bakery</td>\n",
       "      <td>Prepared Meals</td>\n",
       "      <td>2</td>\n",
       "      <td>68</td>\n",
       "      <td>0.029412</td>\n",
       "    </tr>\n",
       "  </tbody>\n",
       "</table>\n",
       "</div>"
      ],
      "text/plain": [
       "       CATEGORY_1       CATEGORY_2  Missing  Total_counts  missing_rate\n",
       "24     Restaurant        Beverages       33            64      0.515625\n",
       "25     Restaurant  À La Carte Item        1             5      0.200000\n",
       "1         Alcohol             Wine       22           341      0.064516\n",
       "0         Alcohol             Beer        4           134      0.029851\n",
       "6   Deli & Bakery   Prepared Meals        2            68      0.029412"
      ]
     },
     "execution_count": 20,
     "metadata": {},
     "output_type": "execute_result"
    }
   ],
   "source": [
    "# Examine products with missing barcode and get top 5\n",
    "pd.merge(Products[Products['BARCODE'].isna()].groupby(['CATEGORY_1','CATEGORY_2'])[['BARCODE']].size().reset_index(name='Missing'),\n",
    "         Products.groupby(['CATEGORY_1','CATEGORY_2'])[['BARCODE']].size().reset_index(name='Total_counts'), \n",
    "         how='left', on=['CATEGORY_1','CATEGORY_2']).assign(\n",
    "        missing_rate=lambda x: x['Missing'] / x['Total_counts']).sort_values(by='missing_rate',ascending=False).head(5)"
   ]
  },
  {
   "cell_type": "code",
   "execution_count": 21,
   "metadata": {},
   "outputs": [
    {
     "data": {
      "image/png": "[encoded data removed]",
      "text/plain": [
       "<Figure size 864x360 with 1 Axes>"
      ]
     },
     "metadata": {},
     "output_type": "display_data"
    }
   ],
   "source": [
    "# Distribution of Categories\n",
    "plt.figure(figsize=(12, 5))\n",
    "sns.countplot(y=Products[\"CATEGORY_1\"], order=Products[\"CATEGORY_1\"].value_counts().index, palette=\"Blues_r\")\n",
    "plt.title(\"Distribution of Products by Category\", fontsize=14)\n",
    "plt.xlabel(\"Count\", fontsize=12)\n",
    "plt.ylabel(\"Category\", fontsize=12)\n",
    "plt.show()"
   ]
  },
  {
   "cell_type": "code",
   "execution_count": 22,
   "metadata": {},
   "outputs": [
    {
     "data": {
      "image/png": "[encoded data removed]",
      "text/plain": [
       "<Figure size 864x360 with 1 Axes>"
      ]
     },
     "metadata": {},
     "output_type": "display_data"
    }
   ],
   "source": [
    "# Top 10 Manufacturers\n",
    "top_manufacturers = Products[\"MANUFACTURER\"].value_counts().head(10)\n",
    "plt.figure(figsize=(12, 5))\n",
    "sns.barplot(x=top_manufacturers.values, y=top_manufacturers.index, palette=\"Blues_r\")\n",
    "plt.title(\"Top 10 Manufacturers by Product Count\", fontsize=14)\n",
    "plt.xlabel(\"Number of Products\", fontsize=12)\n",
    "plt.ylabel(\"Manufacturer\", fontsize=12)\n",
    "plt.show()"
   ]
  },
  {
   "cell_type": "code",
   "execution_count": 23,
   "metadata": {},
   "outputs": [
    {
     "data": {
      "image/png": "[encoded data removed]",
      "text/plain": [
       "<Figure size 864x360 with 1 Axes>"
      ]
     },
     "metadata": {},
     "output_type": "display_data"
    }
   ],
   "source": [
    "# Top 10 Brands\n",
    "top_brands = Products[\"BRAND\"].value_counts().head(10)\n",
    "plt.figure(figsize=(12, 5))\n",
    "sns.barplot(x=top_brands.values, y=top_brands.index, palette=\"Blues_r\")\n",
    "plt.title(\"Top 10 Brands by Product Count\", fontsize=14)\n",
    "plt.xlabel(\"Number of Products\", fontsize=12)\n",
    "plt.ylabel(\"Brand\", fontsize=12)\n",
    "plt.show()"
   ]
  },
  {
   "cell_type": "markdown",
   "metadata": {},
   "source": [
    "### 3. Transactions Table\n",
    "#### Based on the investigation:\n",
    "1. There's no unique id in the transaction data\n",
    "2. Field RECEIPT_ID contains duplicated records. Each RECEIPT_ID appeared at least twice in the data.\n",
    "3. Fields all saved as object for FINAL_QUANTITY and FINAL_SALE, indicating potential data issues-\n",
    "        a. 0 quantity is saved as 'zero' in field FINAL_QUANTITY\n",
    "        b. spaces ' ' is found in field FINAL_SALE\n",
    "        c. numbers are all saved as string in the two fields"
   ]
  },
  {
   "cell_type": "code",
   "execution_count": 24,
   "metadata": {},
   "outputs": [
    {
     "data": {
      "text/html": [
       "<div>\n",
       "<style scoped>\n",
       "    .dataframe tbody tr th:only-of-type {\n",
       "        vertical-align: middle;\n",
       "    }\n",
       "\n",
       "    .dataframe tbody tr th {\n",
       "        vertical-align: top;\n",
       "    }\n",
       "\n",
       "    .dataframe thead th {\n",
       "        text-align: right;\n",
       "    }\n",
       "</style>\n",
       "<table border=\"1\" class=\"dataframe\">\n",
       "  <thead>\n",
       "    <tr style=\"text-align: right;\">\n",
       "      <th></th>\n",
       "      <th>RECEIPT_ID</th>\n",
       "      <th>PURCHASE_DATE</th>\n",
       "      <th>SCAN_DATE</th>\n",
       "      <th>STORE_NAME</th>\n",
       "      <th>USER_ID</th>\n",
       "      <th>BARCODE</th>\n",
       "      <th>FINAL_QUANTITY</th>\n",
       "      <th>FINAL_SALE</th>\n",
       "    </tr>\n",
       "  </thead>\n",
       "  <tbody>\n",
       "    <tr>\n",
       "      <th>0</th>\n",
       "      <td>0000d256-4041-4a3e-adc4-5623fb6e0c99</td>\n",
       "      <td>2024-08-21</td>\n",
       "      <td>2024-08-21 14:19:06.539 Z</td>\n",
       "      <td>WALMART</td>\n",
       "      <td>63b73a7f3d310dceeabd4758</td>\n",
       "      <td>1.530001e+10</td>\n",
       "      <td>1.00</td>\n",
       "      <td></td>\n",
       "    </tr>\n",
       "    <tr>\n",
       "      <th>1</th>\n",
       "      <td>0001455d-7a92-4a7b-a1d2-c747af1c8fd3</td>\n",
       "      <td>2024-07-20</td>\n",
       "      <td>2024-07-20 09:50:24.206 Z</td>\n",
       "      <td>ALDI</td>\n",
       "      <td>62c08877baa38d1a1f6c211a</td>\n",
       "      <td>NaN</td>\n",
       "      <td>zero</td>\n",
       "      <td>1.49</td>\n",
       "    </tr>\n",
       "    <tr>\n",
       "      <th>2</th>\n",
       "      <td>00017e0a-7851-42fb-bfab-0baa96e23586</td>\n",
       "      <td>2024-08-18</td>\n",
       "      <td>2024-08-19 15:38:56.813 Z</td>\n",
       "      <td>WALMART</td>\n",
       "      <td>60842f207ac8b7729e472020</td>\n",
       "      <td>7.874223e+10</td>\n",
       "      <td>1.00</td>\n",
       "      <td></td>\n",
       "    </tr>\n",
       "  </tbody>\n",
       "</table>\n",
       "</div>"
      ],
      "text/plain": [
       "                             RECEIPT_ID PURCHASE_DATE  \\\n",
       "0  0000d256-4041-4a3e-adc4-5623fb6e0c99    2024-08-21   \n",
       "1  0001455d-7a92-4a7b-a1d2-c747af1c8fd3    2024-07-20   \n",
       "2  00017e0a-7851-42fb-bfab-0baa96e23586    2024-08-18   \n",
       "\n",
       "                   SCAN_DATE STORE_NAME                   USER_ID  \\\n",
       "0  2024-08-21 14:19:06.539 Z    WALMART  63b73a7f3d310dceeabd4758   \n",
       "1  2024-07-20 09:50:24.206 Z       ALDI  62c08877baa38d1a1f6c211a   \n",
       "2  2024-08-19 15:38:56.813 Z    WALMART  60842f207ac8b7729e472020   \n",
       "\n",
       "        BARCODE FINAL_QUANTITY FINAL_SALE  \n",
       "0  1.530001e+10           1.00             \n",
       "1           NaN           zero       1.49  \n",
       "2  7.874223e+10           1.00             "
      ]
     },
     "execution_count": 24,
     "metadata": {},
     "output_type": "execute_result"
    }
   ],
   "source": [
    "# Examine data\n",
    "Transactions.head(3)"
   ]
  },
  {
   "cell_type": "code",
   "execution_count": 25,
   "metadata": {},
   "outputs": [
    {
     "name": "stdout",
     "output_type": "stream",
     "text": [
      "<class 'pandas.core.frame.DataFrame'>\n",
      "RangeIndex: 50000 entries, 0 to 49999\n",
      "Data columns (total 8 columns):\n",
      " #   Column          Non-Null Count  Dtype  \n",
      "---  ------          --------------  -----  \n",
      " 0   RECEIPT_ID      50000 non-null  object \n",
      " 1   PURCHASE_DATE   50000 non-null  object \n",
      " 2   SCAN_DATE       50000 non-null  object \n",
      " 3   STORE_NAME      50000 non-null  object \n",
      " 4   USER_ID         50000 non-null  object \n",
      " 5   BARCODE         44238 non-null  float64\n",
      " 6   FINAL_QUANTITY  50000 non-null  object \n",
      " 7   FINAL_SALE      50000 non-null  object \n",
      "dtypes: float64(1), object(7)\n",
      "memory usage: 3.1+ MB\n"
     ]
    }
   ],
   "source": [
    "Transactions.info()"
   ]
  },
  {
   "cell_type": "code",
   "execution_count": 26,
   "metadata": {},
   "outputs": [
    {
     "data": {
      "text/plain": [
       "False"
      ]
     },
     "execution_count": 26,
     "metadata": {},
     "output_type": "execute_result"
    }
   ],
   "source": [
    "# Check RECEIPT_ID and found duplicates\n",
    "Transactions['RECEIPT_ID'].is_unique"
   ]
  },
  {
   "cell_type": "code",
   "execution_count": 27,
   "metadata": {},
   "outputs": [
    {
     "data": {
      "text/plain": [
       "2     23920\n",
       "4       488\n",
       "6        26\n",
       "8         5\n",
       "12        1\n",
       "dtype: int64"
      ]
     },
     "execution_count": 27,
     "metadata": {},
     "output_type": "execute_result"
    }
   ],
   "source": [
    "# Each RECEIPT_ID at least appeared twice in the data\n",
    "Transactions.groupby(['RECEIPT_ID']).size().value_counts()"
   ]
  },
  {
   "cell_type": "code",
   "execution_count": 28,
   "metadata": {},
   "outputs": [
    {
     "data": {
      "text/plain": [
       "('2024-06-12',\n",
       " '2024-09-08',\n",
       " '2024-06-12 06:36:34.910 Z',\n",
       " '2024-09-08 23:07:19.836 Z')"
      ]
     },
     "execution_count": 28,
     "metadata": {},
     "output_type": "execute_result"
    }
   ],
   "source": [
    "# Check PURCHASE_DATE and SCAN_DATE ranges\n",
    "Transactions['PURCHASE_DATE'].min(),Transactions['PURCHASE_DATE'].max(),Transactions['SCAN_DATE'].min(),Transactions['SCAN_DATE'].max()"
   ]
  },
  {
   "cell_type": "code",
   "execution_count": 29,
   "metadata": {},
   "outputs": [
    {
     "data": {
      "text/plain": [
       "1.00    35698\n",
       "zero    12500\n",
       "2.00     1285\n",
       "3.00      184\n",
       "4.00      139\n",
       "Name: FINAL_QUANTITY, dtype: int64"
      ]
     },
     "execution_count": 29,
     "metadata": {},
     "output_type": "execute_result"
    }
   ],
   "source": [
    "# Check FINAL_QUANTITY - found 0 is labeled as 'zero'\n",
    "Transactions['FINAL_QUANTITY'].value_counts().head()"
   ]
  },
  {
   "cell_type": "code",
   "execution_count": 30,
   "metadata": {},
   "outputs": [
    {
     "data": {
      "text/plain": [
       "        12500\n",
       "1.25     1323\n",
       "1.00      744\n",
       "2.99      588\n",
       "1.99      586\n",
       "Name: FINAL_SALE, dtype: int64"
      ]
     },
     "execution_count": 30,
     "metadata": {},
     "output_type": "execute_result"
    }
   ],
   "source": [
    "# Check FINAL_SALE and found most of the records with FINAL_SALE missing, needs further data cleaning before analysis\n",
    "Transactions['FINAL_SALE'].value_counts().head()"
   ]
  },
  {
   "cell_type": "code",
   "execution_count": 31,
   "metadata": {},
   "outputs": [
    {
     "data": {
      "text/plain": [
       "array([' ', '1.49', '3.49', ..., '11.02', '20.17', '42.38'], dtype=object)"
      ]
     },
     "execution_count": 31,
     "metadata": {},
     "output_type": "execute_result"
    }
   ],
   "source": [
    "# Missing FINAL_SALE is labeled as string ' ', needs further data cleaning before analysis\n",
    "Transactions['FINAL_SALE'].unique()"
   ]
  },
  {
   "cell_type": "code",
   "execution_count": 32,
   "metadata": {},
   "outputs": [
    {
     "data": {
      "image/png": "[encoded data removed]",
      "text/plain": [
       "<Figure size 864x360 with 1 Axes>"
      ]
     },
     "metadata": {},
     "output_type": "display_data"
    }
   ],
   "source": [
    "# Transactions Over Time - Found July is a high volume month\n",
    "\n",
    "# Convert date columns to datetime\n",
    "Transactions[\"PURCHASE_DATE\"] = pd.to_datetime(Transactions[\"PURCHASE_DATE\"])\n",
    "Transactions[\"SCAN_DATE\"] = pd.to_datetime(Transactions[\"SCAN_DATE\"])\n",
    "#Plot\n",
    "plt.figure(figsize=(12, 5))\n",
    "Transactions.resample(\"M\", on=\"PURCHASE_DATE\").size().plot(kind=\"line\")\n",
    "plt.title(\"Number of Transactions Over Time\", fontsize=14)\n",
    "plt.xlabel(\"Date\", fontsize=12)\n",
    "plt.ylabel(\"Number of Transactions\", fontsize=12)\n",
    "plt.show()"
   ]
  },
  {
   "cell_type": "code",
   "execution_count": 33,
   "metadata": {},
   "outputs": [
    {
     "data": {
      "image/png": "[encoded data removed]",
      "text/plain": [
       "<Figure size 864x360 with 1 Axes>"
      ]
     },
     "metadata": {},
     "output_type": "display_data"
    }
   ],
   "source": [
    "# Top 5 Stores by Transaction Count\n",
    "top_stores = Transactions[\"STORE_NAME\"].value_counts().head(5)\n",
    "plt.figure(figsize=(12, 5))\n",
    "sns.barplot(x=top_stores.values, y=top_stores.index, palette=\"Blues_r\")\n",
    "plt.title(\"Top 5 Stores by Number of Transactions\", fontsize=14)\n",
    "plt.xlabel(\"Transaction Count\", fontsize=12)\n",
    "plt.ylabel(\"Store Name\", fontsize=12)\n",
    "plt.show()"
   ]
  },
  {
   "cell_type": "markdown",
   "metadata": {},
   "source": [
    "## Second: provide SQL queries"
   ]
  },
  {
   "cell_type": "markdown",
   "metadata": {},
   "source": [
    "### 1. Data cleaning for SQL queries:"
   ]
  },
  {
   "cell_type": "code",
   "execution_count": 34,
   "metadata": {},
   "outputs": [
    {
     "name": "stdout",
     "output_type": "stream",
     "text": [
      "(100000, 9) (96243, 9)\n"
     ]
    }
   ],
   "source": [
    "# Users: filter valid ages (10-100)\n",
    "Users_cleaned = Users[(Users[\"AGE\"] > 10) & (Users[\"AGE\"] < 100)]\n",
    "print(Users.shape,Users_cleaned.shape)"
   ]
  },
  {
   "cell_type": "code",
   "execution_count": 35,
   "metadata": {},
   "outputs": [
    {
     "name": "stdout",
     "output_type": "stream",
     "text": [
      "(841367, 7) (845552, 7)\n"
     ]
    }
   ],
   "source": [
    "# Products: Drop missing in BARCODE \n",
    "Products_cleaned = Products.dropna(subset=[\"BARCODE\"])\n",
    "\n",
    "# Placeholders for manufacturer and brand\n",
    "Products_cleaned['MANUFACTURER']=np.where(Products_cleaned['MANUFACTURER']=='PLACEHOLDER',np.nan,Products_cleaned['MANUFACTURER'])\n",
    "Products_cleaned['BRAND']=np.where(Products_cleaned['BRAND']=='BRAND NOT KNOWN',np.nan,Products_cleaned['MANUFACTURER'])\n",
    "\n",
    "Products_cleaned = Products_cleaned.drop_duplicates()\n",
    "\n",
    "print(Products_cleaned.shape,Products.shape)"
   ]
  },
  {
   "cell_type": "code",
   "execution_count": 36,
   "metadata": {},
   "outputs": [
    {
     "data": {
      "text/html": [
       "<div>\n",
       "<style scoped>\n",
       "    .dataframe tbody tr th:only-of-type {\n",
       "        vertical-align: middle;\n",
       "    }\n",
       "\n",
       "    .dataframe tbody tr th {\n",
       "        vertical-align: top;\n",
       "    }\n",
       "\n",
       "    .dataframe thead th {\n",
       "        text-align: right;\n",
       "    }\n",
       "</style>\n",
       "<table border=\"1\" class=\"dataframe\">\n",
       "  <thead>\n",
       "    <tr style=\"text-align: right;\">\n",
       "      <th></th>\n",
       "      <th>CATEGORY_1</th>\n",
       "      <th>CATEGORY_2</th>\n",
       "      <th>CATEGORY_3</th>\n",
       "      <th>CATEGORY_4</th>\n",
       "      <th>MANUFACTURER</th>\n",
       "      <th>BRAND</th>\n",
       "      <th>BARCODE</th>\n",
       "    </tr>\n",
       "  </thead>\n",
       "  <tbody>\n",
       "  </tbody>\n",
       "</table>\n",
       "</div>"
      ],
      "text/plain": [
       "Empty DataFrame\n",
       "Columns: [CATEGORY_1, CATEGORY_2, CATEGORY_3, CATEGORY_4, MANUFACTURER, BRAND, BARCODE]\n",
       "Index: []"
      ]
     },
     "execution_count": 36,
     "metadata": {},
     "output_type": "execute_result"
    }
   ],
   "source": [
    "Products_cleaned[(Products_cleaned.duplicated(keep=False)) & (Products_cleaned['BARCODE'].notna())].sort_values(by='BARCODE')"
   ]
  },
  {
   "cell_type": "code",
   "execution_count": 37,
   "metadata": {},
   "outputs": [
    {
     "name": "stdout",
     "output_type": "stream",
     "text": [
      "(24795, 8) (50000, 8)\n"
     ]
    }
   ],
   "source": [
    "# Transactions: \n",
    "\n",
    "# Replace 'zero' in FINAL_QUANTITY with 0 and convert to numeric\n",
    "Transactions_cleaned = Transactions.copy()\n",
    "Transactions_cleaned['FINAL_QUANTITY'] = Transactions_cleaned['FINAL_QUANTITY'].replace('zero', '0').astype(float)\n",
    "\n",
    "# Replace ' ' in FINAL_SALE with 0 and convert to numeric\n",
    "Transactions_cleaned['FINAL_SALE'] = Transactions_cleaned['FINAL_SALE'].replace(' ', '0').astype(float)\n",
    "\n",
    "# Deduplicate RECEIPT_ID: Keep the record with the highest FINAL_SALE for each (RECEIPT_ID, BARCODE)\n",
    "Transactions_cleaned = Transactions_cleaned.sort_values(by=['RECEIPT_ID', 'BARCODE', 'FINAL_SALE','FINAL_QUANTITY'], ascending=[True, True, False, False])\n",
    "Transactions_cleaned = Transactions_cleaned.drop_duplicates(subset=['RECEIPT_ID', 'BARCODE'], keep='first')\n",
    "\n",
    "print(Transactions_cleaned.shape,Transactions.shape)"
   ]
  },
  {
   "cell_type": "markdown",
   "metadata": {},
   "source": [
    "### 2. Some relevant analysis "
   ]
  },
  {
   "cell_type": "code",
   "execution_count": 38,
   "metadata": {},
   "outputs": [
    {
     "data": {
      "text/plain": [
       "(24797, 24)"
      ]
     },
     "execution_count": 38,
     "metadata": {},
     "output_type": "execute_result"
    }
   ],
   "source": [
    "# Merge the three datasets\n",
    "df = Transactions_cleaned.merge(Users_cleaned.rename(columns={'ID':'USER_ID'}),how='left',on='USER_ID',indicator='exist_in_user').merge(Products_cleaned,how='left',on='BARCODE',indicator='exist_in_product')\n",
    "df.shape"
   ]
  },
  {
   "cell_type": "code",
   "execution_count": 39,
   "metadata": {},
   "outputs": [
    {
     "data": {
      "text/plain": [
       "left_only     24668\n",
       "both            129\n",
       "right_only        0\n",
       "Name: exist_in_user, dtype: int64"
      ]
     },
     "execution_count": 39,
     "metadata": {},
     "output_type": "execute_result"
    }
   ],
   "source": [
    "# Check combined file and found most users in transactions are not in the Users table - data issue\n",
    "df['exist_in_user'].value_counts()"
   ]
  },
  {
   "cell_type": "code",
   "execution_count": 40,
   "metadata": {},
   "outputs": [
    {
     "data": {
      "text/plain": [
       "left_only     12440\n",
       "both          12357\n",
       "right_only        0\n",
       "Name: exist_in_product, dtype: int64"
      ]
     },
     "execution_count": 40,
     "metadata": {},
     "output_type": "execute_result"
    }
   ],
   "source": [
    "# Check combined file and found most products in transactions are not in the Products table - data issue\n",
    "df['exist_in_product'].value_counts()"
   ]
  },
  {
   "cell_type": "code",
   "execution_count": 41,
   "metadata": {},
   "outputs": [
    {
     "data": {
      "image/png": "[encoded data removed]",
      "text/plain": [
       "<Figure size 864x360 with 1 Axes>"
      ]
     },
     "metadata": {},
     "output_type": "display_data"
    }
   ],
   "source": [
    "# Understand growth of Fetch by checking number of users created in each month\n",
    "\n",
    "# Count users per year\n",
    "Users[\"CREATED_DATE_YEAR\"] = pd.to_datetime(Users[\"CREATED_DATE\"]).dt.year\n",
    "user_counts = Users[\"CREATED_DATE_YEAR\"].value_counts().sort_index()\n",
    "\n",
    "# Users Created Per Year - 2022 is a fast growing year\n",
    "plt.figure(figsize=(12, 5))\n",
    "sns.barplot(x=user_counts.index, y=user_counts.values, palette=\"Blues_r\")\n",
    "plt.title(\"Number of Users Created Per Year\", fontsize=14)\n",
    "plt.xlabel(\"Year\", fontsize=12)\n",
    "plt.ylabel(\"Number of Users\", fontsize=12)\n",
    "plt.show()"
   ]
  },
  {
   "cell_type": "code",
   "execution_count": 42,
   "metadata": {},
   "outputs": [
    {
     "data": {
      "text/plain": [
       "25-34     23993\n",
       "35-44     22135\n",
       "45-54     16558\n",
       "18-24     12360\n",
       "55-64     12291\n",
       "65-74      5826\n",
       "75-100     1726\n",
       "<18        1374\n",
       "100+         62\n",
       "Name: Age Band, dtype: int64"
      ]
     },
     "execution_count": 42,
     "metadata": {},
     "output_type": "execute_result"
    }
   ],
   "source": [
    "# Understand the user's age and spending power \n",
    "Users['Age Band'].value_counts()"
   ]
  },
  {
   "cell_type": "code",
   "execution_count": 43,
   "metadata": {},
   "outputs": [
    {
     "data": {
      "text/html": [
       "<div>\n",
       "<style scoped>\n",
       "    .dataframe tbody tr th:only-of-type {\n",
       "        vertical-align: middle;\n",
       "    }\n",
       "\n",
       "    .dataframe tbody tr th {\n",
       "        vertical-align: top;\n",
       "    }\n",
       "\n",
       "    .dataframe thead th {\n",
       "        text-align: right;\n",
       "    }\n",
       "</style>\n",
       "<table border=\"1\" class=\"dataframe\">\n",
       "  <thead>\n",
       "    <tr style=\"text-align: right;\">\n",
       "      <th></th>\n",
       "      <th>Age Band</th>\n",
       "      <th>RECEIPT_ID</th>\n",
       "      <th>FINAL_SALE</th>\n",
       "    </tr>\n",
       "  </thead>\n",
       "  <tbody>\n",
       "    <tr>\n",
       "      <th>0</th>\n",
       "      <td>&lt;18</td>\n",
       "      <td>0</td>\n",
       "      <td>NaN</td>\n",
       "    </tr>\n",
       "    <tr>\n",
       "      <th>1</th>\n",
       "      <td>18-24</td>\n",
       "      <td>0</td>\n",
       "      <td>NaN</td>\n",
       "    </tr>\n",
       "    <tr>\n",
       "      <th>2</th>\n",
       "      <td>25-34</td>\n",
       "      <td>10</td>\n",
       "      <td>4.601000</td>\n",
       "    </tr>\n",
       "    <tr>\n",
       "      <th>3</th>\n",
       "      <td>35-44</td>\n",
       "      <td>32</td>\n",
       "      <td>4.689375</td>\n",
       "    </tr>\n",
       "    <tr>\n",
       "      <th>4</th>\n",
       "      <td>45-54</td>\n",
       "      <td>27</td>\n",
       "      <td>4.438148</td>\n",
       "    </tr>\n",
       "    <tr>\n",
       "      <th>5</th>\n",
       "      <td>55-64</td>\n",
       "      <td>29</td>\n",
       "      <td>3.251034</td>\n",
       "    </tr>\n",
       "    <tr>\n",
       "      <th>6</th>\n",
       "      <td>65-74</td>\n",
       "      <td>22</td>\n",
       "      <td>7.953636</td>\n",
       "    </tr>\n",
       "    <tr>\n",
       "      <th>7</th>\n",
       "      <td>75-100</td>\n",
       "      <td>9</td>\n",
       "      <td>1.906667</td>\n",
       "    </tr>\n",
       "    <tr>\n",
       "      <th>8</th>\n",
       "      <td>100+</td>\n",
       "      <td>0</td>\n",
       "      <td>NaN</td>\n",
       "    </tr>\n",
       "  </tbody>\n",
       "</table>\n",
       "</div>"
      ],
      "text/plain": [
       "  Age Band  RECEIPT_ID  FINAL_SALE\n",
       "0      <18           0         NaN\n",
       "1    18-24           0         NaN\n",
       "2    25-34          10    4.601000\n",
       "3    35-44          32    4.689375\n",
       "4    45-54          27    4.438148\n",
       "5    55-64          29    3.251034\n",
       "6    65-74          22    7.953636\n",
       "7   75-100           9    1.906667\n",
       "8     100+           0         NaN"
      ]
     },
     "execution_count": 43,
     "metadata": {},
     "output_type": "execute_result"
    }
   ],
   "source": [
    "age_band_summary = df.groupby(['Age Band'])[['RECEIPT_ID', 'FINAL_SALE']].agg({'RECEIPT_ID': 'count', 'FINAL_SALE': 'mean'}).reset_index()\n",
    "age_band_summary"
   ]
  },
  {
   "cell_type": "code",
   "execution_count": 44,
   "metadata": {},
   "outputs": [
    {
     "data": {
      "image/png": "[encoded data removed]",
      "text/plain": [
       "<Figure size 864x432 with 2 Axes>"
      ]
     },
     "metadata": {},
     "output_type": "display_data"
    }
   ],
   "source": [
    "# Visualize distribution of #receipts uploaded in each age group and their spending power\n",
    "fig, ax1 = plt.subplots(figsize=(12, 6))\n",
    "\n",
    "# Bar chart for the number of receipts\n",
    "sns.barplot(x=\"Age Band\", y=\"RECEIPT_ID\", data=age_band_summary, palette=\"Blues_r\", ax=ax1)\n",
    "ax1.set_ylabel(\"Number of Receipts\", fontsize=12, color=\"blue\")\n",
    "ax1.set_xlabel(\"Age Band\", fontsize=12)\n",
    "ax1.set_title(\"Number of Receipts and Average Final Sale by Age Band\", fontsize=14)\n",
    "\n",
    "# Create a secondary Y-axis for average final sale\n",
    "ax2 = ax1.twinx()\n",
    "sns.lineplot(x=\"Age Band\", y=\"FINAL_SALE\", data=age_band_summary, color=\"red\", ax=ax2)\n",
    "ax2.set_ylabel(\"Avg. Final Sale ($)\", fontsize=12, color=\"red\")\n",
    "\n",
    "plt.grid(False)\n",
    "plt.show()"
   ]
  },
  {
   "cell_type": "markdown",
   "metadata": {},
   "source": [
    "### 3. SQL Queries:"
   ]
  },
  {
   "cell_type": "code",
   "execution_count": 45,
   "metadata": {},
   "outputs": [],
   "source": [
    "# # 1. What are the top 5 brands by receipts scanned among users 21 and over?\n",
    "\n",
    "# WITH Filtered_Users AS (\n",
    "#     SELECT ID\n",
    "#     FROM Users_cleaned\n",
    "#     WHERE DATEDIFF(YEAR, BIRTH_DATE, GETDATE()) >= 21\n",
    "# )\n",
    "# SELECT TOP 5 p.BRAND, COUNT(t.RECEIPT_ID) AS receipts_scanned\n",
    "# FROM Transactions_cleaned t\n",
    "# JOIN Filtered_Users u ON t.USER_ID = u.ID\n",
    "# JOIN Products_cleaned p ON t.BARCODE = p.BARCODE\n",
    "# GROUP BY p.BRAND\n",
    "# ORDER BY COUNT(t.RECEIPT_ID) DESC;"
   ]
  },
  {
   "cell_type": "code",
   "execution_count": 46,
   "metadata": {},
   "outputs": [],
   "source": [
    "# # 2. What are the top 5 brands by sales among users that have had their account for at least six months?\n",
    "\n",
    "# WITH Eligible_Users AS (\n",
    "#     SELECT ID\n",
    "#     FROM Users\n",
    "#     WHERE DATEDIFF(MONTH, CREATED_DATE, GETDATE()) >= 6\n",
    "# )\n",
    "# SELECT TOP 5 p.BRAND, SUM(t.CLEANED_SALE) AS total_sales\n",
    "# FROM Transactions_cleaned t\n",
    "# JOIN Eligible_Users u ON t.USER_ID = u.ID\n",
    "# JOIN Products_cleaned p ON t.BARCODE = p.BARCODE\n",
    "# GROUP BY p.BRAND\n",
    "# ORDER BY SUM(t.CLEANED_SALE) DESC;"
   ]
  },
  {
   "cell_type": "code",
   "execution_count": 47,
   "metadata": {},
   "outputs": [],
   "source": [
    "# # 3. Who are Fetch’s power users?\n",
    "# # A user’s power is measured by receipt count and total sales contribution.\n",
    "# # The top 100 users with the highest number of receipts and spending are considered power users.\n",
    "\n",
    "# SELECT u.ID, COUNT(t.RECEIPT_ID) AS receipt_count, SUM(t.CLEANED_SALE) AS total_spent\n",
    "# FROM Transactions_cleaned t\n",
    "# JOIN Users_cleaned u ON t.USER_ID = u.ID\n",
    "# GROUP BY u.ID\n",
    "# ORDER BY COUNT(t.RECEIPT_ID) DESC, SUM(t.CLEANED_SALE) DESC\n",
    "# LIMIT 100;"
   ]
  }
 ],
 "metadata": {
  "kernelspec": {
   "display_name": "Python 3",
   "language": "python",
   "name": "python3"
  },
  "language_info": {
   "codemirror_mode": {
    "name": "ipython",
    "version": 3
   },
   "file_extension": ".py",
   "mimetype": "text/x-python",
   "name": "python",
   "nbconvert_exporter": "python",
   "pygments_lexer": "ipython3",
   "version": "3.8.5"
  }
 },
 "nbformat": 4,
 "nbformat_minor": 4
}
